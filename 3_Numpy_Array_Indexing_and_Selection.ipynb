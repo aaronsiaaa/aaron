{
  "nbformat": 4,
  "nbformat_minor": 0,
  "metadata": {
    "kernelspec": {
      "display_name": "Python 3",
      "language": "python",
      "name": "python3"
    },
    "language_info": {
      "codemirror_mode": {
        "name": "ipython",
        "version": 3
      },
      "file_extension": ".py",
      "mimetype": "text/x-python",
      "name": "python",
      "nbconvert_exporter": "python",
      "pygments_lexer": "ipython3",
      "version": "3.8.5"
    },
    "colab": {
      "name": "3 - Numpy Array Indexing and Selection.ipynb",
      "provenance": [],
      "include_colab_link": true
    }
  },
  "cells": [
    {
      "cell_type": "markdown",
      "metadata": {
        "id": "view-in-github",
        "colab_type": "text"
      },
      "source": [
        "<a href=\"https://colab.research.google.com/github/aaronsiaaa/aaron/blob/master/3_Numpy_Array_Indexing_and_Selection.ipynb\" target=\"_parent\"><img src=\"https://colab.research.google.com/assets/colab-badge.svg\" alt=\"Open In Colab\"/></a>"
      ]
    },
    {
      "cell_type": "markdown",
      "metadata": {
        "id": "GchRIlvBP_d6"
      },
      "source": [
        "# Numpy Indexing and Selection"
      ]
    },
    {
      "cell_type": "code",
      "metadata": {
        "id": "j65tUkZnP_eP"
      },
      "source": [
        "import numpy as np"
      ],
      "execution_count": null,
      "outputs": []
    },
    {
      "cell_type": "code",
      "metadata": {
        "id": "Yn2jOGTuP_eW"
      },
      "source": [
        "sample_array = np.arange(0, 11)"
      ],
      "execution_count": null,
      "outputs": []
    },
    {
      "cell_type": "code",
      "metadata": {
        "id": "St6qRxr8P_eZ"
      },
      "source": [
        "sample_array"
      ],
      "execution_count": null,
      "outputs": []
    },
    {
      "cell_type": "markdown",
      "metadata": {
        "id": "J4mjZjLAP_eb"
      },
      "source": [
        "## Indexing Array"
      ]
    },
    {
      "cell_type": "code",
      "metadata": {
        "id": "orsdwidiP_ee"
      },
      "source": [
        "sample_array[7]"
      ],
      "execution_count": null,
      "outputs": []
    },
    {
      "cell_type": "code",
      "metadata": {
        "id": "Ryrf0FznP_eg"
      },
      "source": [
        "# Array slicing\n",
        "sample_array[2:5]"
      ],
      "execution_count": null,
      "outputs": []
    },
    {
      "cell_type": "code",
      "metadata": {
        "id": "ARnV2on-P_ej"
      },
      "source": [
        "# Get everthing beyond index 2\n",
        "sample_array[2:]"
      ],
      "execution_count": null,
      "outputs": []
    },
    {
      "cell_type": "markdown",
      "metadata": {
        "id": "tILfl5ivP_el"
      },
      "source": [
        "## Broadcasting in NumPy Array"
      ]
    },
    {
      "cell_type": "code",
      "metadata": {
        "id": "FkHVAyw4P_e2"
      },
      "source": [
        "sample_array"
      ],
      "execution_count": null,
      "outputs": []
    },
    {
      "cell_type": "code",
      "metadata": {
        "id": "xl-0g8gIP_e4"
      },
      "source": [
        "# Set the value of index 4 and 6 to 10\n",
        "sample_array[4:6] = 10"
      ],
      "execution_count": null,
      "outputs": []
    },
    {
      "cell_type": "code",
      "metadata": {
        "id": "lR2XG6WuP_e6"
      },
      "source": [
        "sample_array"
      ],
      "execution_count": null,
      "outputs": []
    },
    {
      "cell_type": "markdown",
      "metadata": {
        "id": "SeKwqldYP_e8"
      },
      "source": [
        "## Copy an Array"
      ]
    },
    {
      "cell_type": "code",
      "metadata": {
        "id": "rc2GaIjPP_e9"
      },
      "source": [
        "sample_array = np.arange(10)\n",
        "sample_array"
      ],
      "execution_count": null,
      "outputs": []
    },
    {
      "cell_type": "code",
      "metadata": {
        "id": "GyDYt7bzP_fA"
      },
      "source": [
        "new_copy = sample_array.copy()"
      ],
      "execution_count": null,
      "outputs": []
    },
    {
      "cell_type": "code",
      "metadata": {
        "id": "DvPkwlcDP_fD"
      },
      "source": [
        "new_copy[:3] = 10"
      ],
      "execution_count": null,
      "outputs": []
    },
    {
      "cell_type": "code",
      "metadata": {
        "id": "oY0CMqcgP_fG"
      },
      "source": [
        "new_copy"
      ],
      "execution_count": null,
      "outputs": []
    },
    {
      "cell_type": "code",
      "metadata": {
        "id": "gMaIHJftP_fI"
      },
      "source": [
        "sample_array"
      ],
      "execution_count": null,
      "outputs": []
    },
    {
      "cell_type": "markdown",
      "metadata": {
        "id": "VBcP2wXXP_fL"
      },
      "source": [
        "## Selection"
      ]
    },
    {
      "cell_type": "code",
      "metadata": {
        "id": "v6i6hJBmP_fM"
      },
      "source": [
        "sample_array[sample_array < 4]"
      ],
      "execution_count": null,
      "outputs": []
    },
    {
      "cell_type": "markdown",
      "metadata": {
        "id": "TK7Yfj73P_fP"
      },
      "source": [
        "# Activity\n",
        "\n",
        "Try selecting the **11-13 indexes** of the 2D array below"
      ]
    },
    {
      "cell_type": "code",
      "metadata": {
        "id": "3lH89l0EP_fR"
      },
      "source": [
        "import numpy as np\n",
        "a = np.arange(25).reshape(5, 5)"
      ],
      "execution_count": null,
      "outputs": []
    },
    {
      "cell_type": "code",
      "metadata": {
        "id": "OpYVxO4RP_fT",
        "colab": {
          "base_uri": "https://localhost:8080/"
        },
        "outputId": "faa840b3-b3b0-4958-8781-b4df172a779e"
      },
      "source": [
        "a"
      ],
      "execution_count": null,
      "outputs": [
        {
          "output_type": "execute_result",
          "data": {
            "text/plain": [
              "array([[ 0,  1,  2,  3,  4],\n",
              "       [ 5,  6,  7,  8,  9],\n",
              "       [10, 11, 12, 13, 14],\n",
              "       [15, 16, 17, 18, 19],\n",
              "       [20, 21, 22, 23, 24]])"
            ]
          },
          "metadata": {},
          "execution_count": 5
        }
      ]
    },
    {
      "cell_type": "code",
      "metadata": {
        "id": "mkuQIDiVP_fX"
      },
      "source": [
        "two_dimensional[2][1:4]"
      ],
      "execution_count": null,
      "outputs": []
    },
    {
      "cell_type": "code",
      "metadata": {
        "id": "2Q9wiq6DP_fZ"
      },
      "source": [
        ""
      ],
      "execution_count": null,
      "outputs": []
    }
  ]
}